{
 "cells": [
  {
   "cell_type": "code",
   "execution_count": 1,
   "metadata": {},
   "outputs": [
    {
     "name": "stdout",
     "output_type": "stream",
     "text": [
      "Collecting ipyparallel\n",
      "\u001b[?25l  Downloading https://files.pythonhosted.org/packages/de/58/0342ee79ea4cf134b2d81cd600a5263341efc8b688edaacd75827e07ac64/ipyparallel-6.2.3-py2.py3-none-any.whl (197kB)\n",
      "\u001b[K    100% |################################| 204kB 140kB/s ta 0:00:01\n",
      "\u001b[?25hRequirement already satisfied: ipython-genutils in /opt/conda/lib/python3.6/site-packages (from ipyparallel) (0.2.0)\n",
      "Requirement already satisfied: pyzmq>=13 in /opt/conda/lib/python3.6/site-packages (from ipyparallel) (18.0.1)\n",
      "Requirement already satisfied: decorator in /opt/conda/lib/python3.6/site-packages (from ipyparallel) (4.3.2)\n",
      "Requirement already satisfied: tornado>=4 in /opt/conda/lib/python3.6/site-packages (from ipyparallel) (6.0.2)\n",
      "Requirement already satisfied: ipykernel>=4.4 in /opt/conda/lib/python3.6/site-packages (from ipyparallel) (5.1.0)\n",
      "Requirement already satisfied: python-dateutil>=2.1 in /opt/conda/lib/python3.6/site-packages (from ipyparallel) (2.8.0)\n",
      "Requirement already satisfied: ipython>=4 in /opt/conda/lib/python3.6/site-packages (from ipyparallel) (7.2.0)\n",
      "Requirement already satisfied: jupyter-client in /opt/conda/lib/python3.6/site-packages (from ipyparallel) (5.2.4)\n",
      "Requirement already satisfied: traitlets>=4.3 in /opt/conda/lib/python3.6/site-packages (from ipyparallel) (4.3.2)\n",
      "Requirement already satisfied: six>=1.5 in /opt/conda/lib/python3.6/site-packages (from python-dateutil>=2.1->ipyparallel) (1.12.0)\n",
      "Requirement already satisfied: pygments in /opt/conda/lib/python3.6/site-packages (from ipython>=4->ipyparallel) (2.3.1)\n",
      "Requirement already satisfied: jedi>=0.10 in /opt/conda/lib/python3.6/site-packages (from ipython>=4->ipyparallel) (0.13.2)\n",
      "Requirement already satisfied: backcall in /opt/conda/lib/python3.6/site-packages (from ipython>=4->ipyparallel) (0.1.0)\n",
      "Requirement already satisfied: pexpect; sys_platform != \"win32\" in /opt/conda/lib/python3.6/site-packages (from ipython>=4->ipyparallel) (4.6.0)\n",
      "Requirement already satisfied: prompt-toolkit<2.1.0,>=2.0.0 in /opt/conda/lib/python3.6/site-packages (from ipython>=4->ipyparallel) (2.0.8)\n",
      "Requirement already satisfied: pickleshare in /opt/conda/lib/python3.6/site-packages (from ipython>=4->ipyparallel) (0.7.5)\n",
      "Requirement already satisfied: setuptools>=18.5 in /opt/conda/lib/python3.6/site-packages (from ipython>=4->ipyparallel) (40.7.3)\n",
      "Requirement already satisfied: jupyter-core in /opt/conda/lib/python3.6/site-packages (from jupyter-client->ipyparallel) (4.4.0)\n",
      "Requirement already satisfied: parso>=0.3.0 in /opt/conda/lib/python3.6/site-packages (from jedi>=0.10->ipython>=4->ipyparallel) (0.3.2)\n",
      "Requirement already satisfied: ptyprocess>=0.5 in /opt/conda/lib/python3.6/site-packages (from pexpect; sys_platform != \"win32\"->ipython>=4->ipyparallel) (0.6.0)\n",
      "Requirement already satisfied: wcwidth in /opt/conda/lib/python3.6/site-packages (from prompt-toolkit<2.1.0,>=2.0.0->ipython>=4->ipyparallel) (0.1.7)\n",
      "Installing collected packages: ipyparallel\n",
      "Successfully installed ipyparallel-6.2.3\n"
     ]
    }
   ],
   "source": [
    "!pip3 install ipyparallel"
   ]
  },
  {
   "cell_type": "code",
   "execution_count": 2,
   "metadata": {},
   "outputs": [
    {
     "name": "stdout",
     "output_type": "stream",
     "text": [
      "Enabling IPython clusters tab\r\n"
     ]
    }
   ],
   "source": [
    "!ipcluster nbextension enable"
   ]
  }
 ],
 "metadata": {
  "kernelspec": {
   "display_name": "Python 3",
   "language": "python",
   "name": "python3"
  },
  "language_info": {
   "codemirror_mode": {
    "name": "ipython",
    "version": 3
   },
   "file_extension": ".py",
   "mimetype": "text/x-python",
   "name": "python",
   "nbconvert_exporter": "python",
   "pygments_lexer": "ipython3",
   "version": "3.6.8"
  }
 },
 "nbformat": 4,
 "nbformat_minor": 2
}

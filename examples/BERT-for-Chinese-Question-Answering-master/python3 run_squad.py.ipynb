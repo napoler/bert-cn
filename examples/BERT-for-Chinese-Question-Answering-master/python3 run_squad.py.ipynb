{
 "cells": [
  {
   "cell_type": "markdown",
   "metadata": {},
   "source": [
    "# 英文测试"
   ]
  },
  {
   "cell_type": "code",
   "execution_count": 35,
   "metadata": {},
   "outputs": [
    {
     "name": "stdout",
     "output_type": "stream",
     "text": [
      "04/24/2019 10:49:16 - INFO - __main__ -   device cpu n_gpu 0 distributed training False\n",
      "04/24/2019 10:49:16 - INFO - __main__ -   Load and process train examples\n",
      "04/24/2019 10:49:16 - INFO - __main__ -   Load and process dev examples\n",
      "04/24/2019 10:49:19 - INFO - __main__ -   Loading init checkpoint\n",
      "04/24/2019 10:49:19 - INFO - __main__ -   args.init_checkpoint\n",
      "04/24/2019 10:49:19 - INFO - __main__ -   Loaded init checkpoint\n",
      "04/24/2019 10:49:19 - INFO - __main__ -   ***** Running training \\u5f00\\u59cb\\u8bad\\u7ec3*****\n",
      "04/24/2019 10:49:19 - INFO - __main__ -     Num split examples = 0\n",
      "04/24/2019 10:49:19 - INFO - __main__ -     Batch size = 12\n",
      "04/24/2019 10:49:19 - INFO - __main__ -     Num steps = 0\n",
      "train_sampler <torch.utils.data.dataset.TensorDataset object at 0x7fc502140eb8>\n",
      "Traceback (most recent call last):\n",
      "  File \"run_squad.py\", line 1073, in <module>\n",
      "    main()\n",
      "  File \"run_squad.py\", line 1041, in main\n",
      "    train_sampler = RandomSampler(train_data)\n",
      "  File \"/opt/conda/lib/python3.6/site-packages/torch/utils/data/sampler.py\", line 64, in __init__\n",
      "    \"value, but got num_samples={}\".format(self.num_samples))\n",
      "ValueError: num_samples should be a positive integeral value, but got num_samples=0\n"
     ]
    }
   ],
   "source": [
    "! python3 run_squad.py  --do_train --do_predict --save_checkpoints_steps 3000 --train_batch_size 12 --num_train_epochs 5 --train_file sample_train.json --predict_file sample_dev.json\n",
    "# ! --train_file data/sample/sample_train.json \\\n",
    "# ! --predict_file data/sample/sample_dev.json \\\n",
    "# #! --train_file data/sample/sample_test.json \\"
   ]
  },
  {
   "cell_type": "code",
   "execution_count": null,
   "metadata": {},
   "outputs": [],
   "source": []
  },
  {
   "cell_type": "code",
   "execution_count": null,
   "metadata": {},
   "outputs": [],
   "source": []
  }
 ],
 "metadata": {
  "kernelspec": {
   "display_name": "Python 3",
   "language": "python",
   "name": "python3"
  },
  "language_info": {
   "codemirror_mode": {
    "name": "ipython",
    "version": 3
   },
   "file_extension": ".py",
   "mimetype": "text/x-python",
   "name": "python",
   "nbconvert_exporter": "python",
   "pygments_lexer": "ipython3",
   "version": "3.6.8"
  }
 },
 "nbformat": 4,
 "nbformat_minor": 2
}

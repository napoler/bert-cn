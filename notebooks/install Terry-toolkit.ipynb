{
 "cells": [
  {
   "cell_type": "code",
   "execution_count": null,
   "metadata": {},
   "outputs": [],
   "source": []
  },
  {
   "cell_type": "code",
   "execution_count": 1,
   "metadata": {
    "scrolled": true
   },
   "outputs": [
    {
     "name": "stdout",
     "output_type": "stream",
     "text": [
      "Collecting Terry-toolkit\n",
      "  Downloading https://files.pythonhosted.org/packages/7f/a3/5f562c508a1cc8d747f103098983bfa4bc1da188ae725f445b040667cb15/Terry_toolkit-0.0.1.5.2.tar.gz\n",
      "Building wheels for collected packages: Terry-toolkit\n",
      "  Building wheel for Terry-toolkit (setup.py) ... \u001b[?25ldone\n",
      "\u001b[?25h  Stored in directory: /root/.cache/pip/wheels/71/bb/fb/692ad1d058eb41d9f69f46182df3052bece1316175d7c9ae95\n",
      "Successfully built Terry-toolkit\n",
      "Installing collected packages: Terry-toolkit\n",
      "  Found existing installation: Terry-toolkit 0.0.1.5.1\n",
      "    Uninstalling Terry-toolkit-0.0.1.5.1:\n",
      "      Successfully uninstalled Terry-toolkit-0.0.1.5.1\n",
      "Successfully installed Terry-toolkit-0.0.1.5.2\n"
     ]
    }
   ],
   "source": [
    "!pip3 install -U Terry-toolkit"
   ]
  },
  {
   "cell_type": "code",
   "execution_count": 2,
   "metadata": {
    "slideshow": {
     "slide_type": "notes"
    }
   },
   "outputs": [],
   "source": [
    "import Terry_toolkit\n"
   ]
  },
  {
   "cell_type": "markdown",
   "metadata": {
    "slideshow": {
     "slide_type": "fragment"
    }
   },
   "source": [
    "# 清除掉多余的空格回车等\n",
    "\n",
    "text= Terry_toolkit.Text()\n",
    "t= text.clear('这里似乎内  容不给')\n",
    "t"
   ]
  },
  {
   "cell_type": "markdown",
   "metadata": {},
   "source": [
    "# "
   ]
  },
  {
   "cell_type": "markdown",
   "metadata": {},
   "source": [
    "# 这里进行分句\n",
    "t= text.sentence_segmentation('精力旺盛，容易训练，很快适应家居生活，会成为孩子们的好朋友。但易患进行性视网膜脱落，血液失调，臀部发育不良和脊椎疾病 [4]  。')\n",
    "t"
   ]
  },
  {
   "cell_type": "code",
   "execution_count": null,
   "metadata": {},
   "outputs": [],
   "source": []
  },
  {
   "cell_type": "code",
   "execution_count": null,
   "metadata": {},
   "outputs": [],
   "source": []
  }
 ],
 "metadata": {
  "celltoolbar": "幻灯片",
  "kernelspec": {
   "display_name": "Python 3",
   "language": "python",
   "name": "python3"
  },
  "language_info": {
   "codemirror_mode": {
    "name": "ipython",
    "version": 3
   },
   "file_extension": ".py",
   "mimetype": "text/x-python",
   "name": "python",
   "nbconvert_exporter": "python",
   "pygments_lexer": "ipython3",
   "version": "3.6.8"
  },
  "widgets": {
   "application/vnd.jupyter.widget-state+json": {
    "state": {},
    "version_major": 2,
    "version_minor": 0
   }
  }
 },
 "nbformat": 4,
 "nbformat_minor": 2
}

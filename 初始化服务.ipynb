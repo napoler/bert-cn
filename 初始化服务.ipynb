{
 "cells": [
  {
   "cell_type": "markdown",
   "metadata": {},
   "source": [
    "# 初始化"
   ]
  },
  {
   "cell_type": "code",
   "execution_count": 1,
   "metadata": {},
   "outputs": [
    {
     "name": "stdout",
     "output_type": "stream",
     "text": [
      " bert_server   examples\t\t\t\t  requirements.txt\n",
      " conf\t      'jupyter notebook 设置密码.ipynb'   share\n",
      " data\t       lib64\t\t\t\t  tools\n",
      " dev.md~       LICENSE\t\t\t\t  train_cn\n",
      " dev.MD        notebooks\t\t\t  初始化服务.ipynb\n",
      " docs\t       pyvenv.cfg\t\t\t  新建空文件\n",
      " etc\t       README.md\n",
      "/gdrive/My Drive/bert/bert-cn\n"
     ]
    }
   ],
   "source": [
    "!ls\n",
    "%cd /gdrive/My\\ Drive/bert/bert-cn/"
   ]
  },
  {
   "cell_type": "code",
   "execution_count": 2,
   "metadata": {},
   "outputs": [
    {
     "name": "stdout",
     "output_type": "stream",
     "text": [
      "Collecting boto3==1.9.138 (from -r requirements.txt (line 1))\n",
      "\u001b[?25l  Downloading https://files.pythonhosted.org/packages/62/92/b72cac312331724b7d2fb6d9f5c6045cc4b4ba71f64ce5bbc601fee1adc7/boto3-1.9.138-py2.py3-none-any.whl (128kB)\n",
      "\u001b[K     |████████████████████████████████| 133kB 2.8MB/s \n",
      "\u001b[?25hCollecting botocore==1.12.138 (from -r requirements.txt (line 2))\n",
      "\u001b[?25l  Downloading https://files.pythonhosted.org/packages/2b/ba/490ac1a96c3f8ab85217c037f6781fca7953c887ba716e6c46f5c3075212/botocore-1.12.138-py2.py3-none-any.whl (5.4MB)\n",
      "\u001b[K     |████████████████████████████████| 5.4MB 31kB/s \n",
      "\u001b[?25hRequirement already satisfied: certifi==2019.3.9 in /usr/local/lib/python3.6/dist-packages (from -r requirements.txt (line 3)) (2019.3.9)\n",
      "Requirement already satisfied: chardet==3.0.4 in /usr/local/lib/python3.6/dist-packages (from -r requirements.txt (line 4)) (3.0.4)\n",
      "Requirement already satisfied: Click==7.0 in /usr/local/lib/python3.6/dist-packages (from -r requirements.txt (line 5)) (7.0)\n",
      "Requirement already satisfied: docutils==0.14 in /usr/local/lib/python3.6/dist-packages (from -r requirements.txt (line 6)) (0.14)\n",
      "Requirement already satisfied: Flask==1.0.2 in /usr/local/lib/python3.6/dist-packages (from -r requirements.txt (line 7)) (1.0.2)\n",
      "Requirement already satisfied: idna==2.8 in /usr/local/lib/python3.6/dist-packages (from -r requirements.txt (line 8)) (2.8)\n",
      "Requirement already satisfied: itsdangerous==1.1.0 in /usr/local/lib/python3.6/dist-packages (from -r requirements.txt (line 9)) (1.1.0)\n",
      "Requirement already satisfied: Jinja2==2.10.1 in /usr/local/lib/python3.6/dist-packages (from -r requirements.txt (line 10)) (2.10.1)\n",
      "Requirement already satisfied: jmespath==0.9.4 in /usr/local/lib/python3.6/dist-packages (from -r requirements.txt (line 11)) (0.9.4)\n",
      "Requirement already satisfied: MarkupSafe==1.1.1 in /usr/local/lib/python3.6/dist-packages (from -r requirements.txt (line 12)) (1.1.1)\n",
      "Requirement already satisfied: numpy==1.16.3 in /usr/local/lib/python3.6/dist-packages (from -r requirements.txt (line 13)) (1.16.3)\n",
      "Collecting Pillow==6.0.0 (from -r requirements.txt (line 14))\n",
      "\u001b[?25l  Downloading https://files.pythonhosted.org/packages/d2/c2/f84b1e57416755e967236468dcfb0fad7fd911f707185efc4ba8834a1a94/Pillow-6.0.0-cp36-cp36m-manylinux1_x86_64.whl (2.0MB)\n",
      "\u001b[K     |████████████████████████████████| 2.0MB 28.4MB/s \n",
      "\u001b[?25hCollecting python-dateutil==2.8.0 (from -r requirements.txt (line 15))\n",
      "\u001b[?25l  Downloading https://files.pythonhosted.org/packages/41/17/c62faccbfbd163c7f57f3844689e3a78bae1f403648a6afb1d0866d87fbb/python_dateutil-2.8.0-py2.py3-none-any.whl (226kB)\n",
      "\u001b[K     |████████████████████████████████| 235kB 44.9MB/s \n",
      "\u001b[?25hCollecting pytorch-pretrained-bert==0.6.2 (from -r requirements.txt (line 16))\n",
      "\u001b[?25l  Downloading https://files.pythonhosted.org/packages/d7/e0/c08d5553b89973d9a240605b9c12404bcf8227590de62bae27acbcfe076b/pytorch_pretrained_bert-0.6.2-py3-none-any.whl (123kB)\n",
      "\u001b[K     |████████████████████████████████| 133kB 45.2MB/s \n",
      "\u001b[?25hCollecting regex==2019.4.14 (from -r requirements.txt (line 17))\n",
      "\u001b[?25l  Downloading https://files.pythonhosted.org/packages/11/d9/e37129676d508adf833fb3e3c3fbcb4e5a10183cf45b6c7edbaa57b4a1f2/regex-2019.04.14.tar.gz (644kB)\n",
      "\u001b[K     |████████████████████████████████| 645kB 32.2MB/s \n",
      "\u001b[?25hRequirement already satisfied: requests==2.21.0 in /usr/local/lib/python3.6/dist-packages (from -r requirements.txt (line 18)) (2.21.0)\n",
      "Requirement already satisfied: s3transfer==0.2.0 in /usr/local/lib/python3.6/dist-packages (from -r requirements.txt (line 19)) (0.2.0)\n",
      "Requirement already satisfied: six==1.12.0 in /usr/local/lib/python3.6/dist-packages (from -r requirements.txt (line 20)) (1.12.0)\n",
      "Collecting Terry-toolkit==0.0.1.5.2 (from -r requirements.txt (line 21))\n",
      "  Downloading https://files.pythonhosted.org/packages/7f/a3/5f562c508a1cc8d747f103098983bfa4bc1da188ae725f445b040667cb15/Terry_toolkit-0.0.1.5.2.tar.gz\n",
      "Requirement already satisfied: torch==1.0.1.post2 in /usr/local/lib/python3.6/dist-packages (from -r requirements.txt (line 22)) (1.0.1.post2)\n",
      "Requirement already satisfied: torchvision==0.2.2.post3 in /usr/local/lib/python3.6/dist-packages (from -r requirements.txt (line 23)) (0.2.2.post3)\n",
      "Collecting tqdm==4.31.1 (from -r requirements.txt (line 24))\n",
      "\u001b[?25l  Downloading https://files.pythonhosted.org/packages/6c/4b/c38b5144cf167c4f52288517436ccafefe9dc01b8d1c190e18a6b154cd4a/tqdm-4.31.1-py2.py3-none-any.whl (48kB)\n",
      "\u001b[K     |████████████████████████████████| 51kB 19.5MB/s \n",
      "\u001b[?25hRequirement already satisfied: urllib3==1.24.2 in /usr/local/lib/python3.6/dist-packages (from -r requirements.txt (line 25)) (1.24.2)\n",
      "Requirement already satisfied: Werkzeug==0.15.2 in /usr/local/lib/python3.6/dist-packages (from -r requirements.txt (line 26)) (0.15.2)\n",
      "Building wheels for collected packages: regex, Terry-toolkit\n",
      "  Building wheel for regex (setup.py) ... \u001b[?25l\u001b[?25hdone\n",
      "  Stored in directory: /root/.cache/pip/wheels/ae/35/86/47caa8baa5e9340dcb02a719f64a7091900e28af7368d35731\n",
      "  Building wheel for Terry-toolkit (setup.py) ... \u001b[?25l\u001b[?25hdone\n",
      "  Stored in directory: /root/.cache/pip/wheels/71/bb/fb/692ad1d058eb41d9f69f46182df3052bece1316175d7c9ae95\n",
      "Successfully built regex Terry-toolkit\n",
      "\u001b[31mERROR: spacy 2.0.18 has requirement regex==2018.01.10, but you'll have regex 2019.4.14 which is incompatible.\u001b[0m\n",
      "\u001b[31mERROR: albumentations 0.1.12 has requirement imgaug<0.2.7,>=0.2.5, but you'll have imgaug 0.2.8 which is incompatible.\u001b[0m\n",
      "Installing collected packages: python-dateutil, botocore, boto3, Pillow, regex, tqdm, pytorch-pretrained-bert, Terry-toolkit\n",
      "  Found existing installation: python-dateutil 2.5.3\n",
      "    Uninstalling python-dateutil-2.5.3:\n",
      "      Successfully uninstalled python-dateutil-2.5.3\n",
      "  Found existing installation: botocore 1.12.137\n",
      "    Uninstalling botocore-1.12.137:\n",
      "      Successfully uninstalled botocore-1.12.137\n",
      "  Found existing installation: boto3 1.9.137\n",
      "    Uninstalling boto3-1.9.137:\n",
      "      Successfully uninstalled boto3-1.9.137\n",
      "  Found existing installation: Pillow 4.3.0\n",
      "    Uninstalling Pillow-4.3.0:\n",
      "      Successfully uninstalled Pillow-4.3.0\n",
      "  Found existing installation: regex 2018.1.10\n",
      "    Uninstalling regex-2018.1.10:\n",
      "      Successfully uninstalled regex-2018.1.10\n",
      "  Found existing installation: tqdm 4.28.1\n",
      "    Uninstalling tqdm-4.28.1:\n",
      "      Successfully uninstalled tqdm-4.28.1\n",
      "Successfully installed Pillow-6.0.0 Terry-toolkit-0.0.1.5.2 boto3-1.9.138 botocore-1.12.138 python-dateutil-2.8.0 pytorch-pretrained-bert-0.6.2 regex-2019.4.14 tqdm-4.31.1\n"
     ]
    },
    {
     "data": {
      "application/vnd.colab-display-data+json": {
       "pip_warning": {
        "packages": [
         "PIL",
         "dateutil"
        ]
       }
      }
     },
     "metadata": {},
     "output_type": "display_data"
    }
   ],
   "source": [
    "!pip3 install -r requirements.txt"
   ]
  },
  {
   "cell_type": "markdown",
   "metadata": {},
   "source": [
    "# 导出本地依赖"
   ]
  },
  {
   "cell_type": "code",
   "execution_count": null,
   "metadata": {},
   "outputs": [],
   "source": [
    "!pip3 freeze > requirements.txt"
   ]
  }
 ],
 "metadata": {
  "kernelspec": {
   "display_name": "Python 3",
   "language": "python",
   "name": "python3"
  },
  "language_info": {
   "codemirror_mode": {
    "name": "ipython",
    "version": 3
   },
   "file_extension": ".py",
   "mimetype": "text/x-python",
   "name": "python",
   "nbconvert_exporter": "python",
   "pygments_lexer": "ipython3",
   "version": "3.6.7"
  }
 },
 "nbformat": 4,
 "nbformat_minor": 2
}

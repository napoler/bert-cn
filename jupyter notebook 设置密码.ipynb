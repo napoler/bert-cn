{
 "cells": [
  {
   "cell_type": "code",
   "execution_count": 1,
   "metadata": {},
   "outputs": [
    {
     "name": "stdout",
     "output_type": "stream",
     "text": [
      "你好\n"
     ]
    }
   ],
   "source": [
    "print('你好')"
   ]
  },
  {
   "cell_type": "markdown",
   "metadata": {},
   "source": [
    "(一)使用\n",
    "\n",
    "1.终端输入：jupyter notebook --generate-config 会生成一个配置文件，成功后会显示文件路径（/Users/kyousugi/.jupyter/jupyter_notebook_config.py）\n",
    "2.打开路径下的jupyter_notebook_config.py配置文件，找到c.NotebookApp.notebook_dir=修改为自己的工作目录\n",
    "3.在终端输入：jupyter notebook即可打开jupyter，就可以在web端编写python啦！\n",
    "\n",
    "(二)设置密码\n",
    "\n",
    "1.浏览器打开jupyter，新建一个python文件，第一行输入：from notebook.auth import passwd\n",
    "\n",
    "2.shift+enter执行命令并进入下一行。下一行输入：passwd() ，回车后提示输入密码，输入两次。\n",
    "3.哈希密码sha1:158c74966eda:9533217697d0c62f0db43414ec4e06d4072c1cecc2e97d\n",
    "4.再次打开配置文件jupyter_notebook_config.py,找到c.NotebookApp.password=第三步的哈希密码，重启jupyter notebook即可\n",
    "\n",
    "作者：南国_\n",
    "链接：https://www.jianshu.com/p/b1189769aeb2\n",
    "来源：简书\n",
    "简书著作权归作者所有，任何形式的转载都请联系作者获得授权并注明出处。"
   ]
  }
 ],
 "metadata": {
  "kernelspec": {
   "display_name": "Python 3",
   "language": "python",
   "name": "python3"
  },
  "language_info": {
   "codemirror_mode": {
    "name": "ipython",
    "version": 3
   },
   "file_extension": ".py",
   "mimetype": "text/x-python",
   "name": "python",
   "nbconvert_exporter": "python",
   "pygments_lexer": "ipython3",
   "version": "3.6.8"
  }
 },
 "nbformat": 4,
 "nbformat_minor": 2
}
